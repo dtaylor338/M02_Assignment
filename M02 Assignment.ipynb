{
 "cells": [
  {
   "cell_type": "code",
   "execution_count": 10,
   "id": "57c39bfc",
   "metadata": {},
   "outputs": [
    {
     "name": "stdout",
     "output_type": "stream",
     "text": [
      "Guess the Secret Number:5\n",
      "Too Low\n"
     ]
    }
   ],
   "source": [
    "secret=int(7)\n",
    "guess= int(input(\"Guess the Secret Number:\"))\n",
    "\n",
    "if secret>guess:\n",
    "    print(\"Too Low\")\n",
    "elif secret<guess:\n",
    "    print(\"Too High\")\n",
    "else:\n",
    "    print(\"Just Right\")"
   ]
  },
  {
   "cell_type": "code",
   "execution_count": 6,
   "id": "41a213a4",
   "metadata": {},
   "outputs": [
    {
     "name": "stdout",
     "output_type": "stream",
     "text": [
      "pea\n"
     ]
    }
   ],
   "source": [
    "small = True\n",
    "green = True\n",
    "if small:\n",
    "    if green:\n",
    "        print(\"pea\")\n",
    "    else:\n",
    "        print(\"cherry\")\n",
    "else:\n",
    "    if green:\n",
    "        print(\"watermelon\")\n",
    "    else:\n",
    "        print(\"pumpkin\")"
   ]
  },
  {
   "cell_type": "code",
   "execution_count": 12,
   "id": "f0d806c1",
   "metadata": {},
   "outputs": [
    {
     "name": "stdout",
     "output_type": "stream",
     "text": [
      "3\n",
      "2\n",
      "1\n",
      "0\n"
     ]
    }
   ],
   "source": [
    "thislist= [3,2,1,0]\n",
    "for x in thislist:\n",
    "    print (x)"
   ]
  },
  {
   "cell_type": "code",
   "execution_count": 34,
   "id": "95b8e438",
   "metadata": {},
   "outputs": [
    {
     "name": "stdout",
     "output_type": "stream",
     "text": [
      "too low\n",
      "too low\n",
      "too low\n",
      "too low\n",
      "too low\n",
      "too low\n",
      "found it!\n"
     ]
    }
   ],
   "source": [
    "guess_me=int(7)\n",
    "number=int(1)\n",
    "while number < guess_me:\n",
    "    print(\"too low\")\n",
    "    number+=1\n",
    "    if number==guess_me:\n",
    "        print('found it!')\n",
    "    if number>guess_me:\n",
    "        print(\"oops\")\n",
    "        break\n",
    "        number+=1"
   ]
  },
  {
   "cell_type": "code",
   "execution_count": 36,
   "id": "0560706f",
   "metadata": {},
   "outputs": [
    {
     "name": "stdout",
     "output_type": "stream",
     "text": [
      "too low\n",
      "too low\n",
      "too low\n",
      "too low\n",
      "too low\n",
      "found it!\n"
     ]
    }
   ],
   "source": [
    "guess_me=5\n",
    "for number in range(10):\n",
    "    if number < guess_me:\n",
    "        print(\"too low\")\n",
    "    if guess_me== number:\n",
    "        print(\"found it!\")\n",
    "        break"
   ]
  },
  {
   "cell_type": "code",
   "execution_count": null,
   "id": "dffefeb8",
   "metadata": {},
   "outputs": [],
   "source": []
  }
 ],
 "metadata": {
  "kernelspec": {
   "display_name": "Python 3 (ipykernel)",
   "language": "python",
   "name": "python3"
  },
  "language_info": {
   "codemirror_mode": {
    "name": "ipython",
    "version": 3
   },
   "file_extension": ".py",
   "mimetype": "text/x-python",
   "name": "python",
   "nbconvert_exporter": "python",
   "pygments_lexer": "ipython3",
   "version": "3.11.0"
  }
 },
 "nbformat": 4,
 "nbformat_minor": 5
}
